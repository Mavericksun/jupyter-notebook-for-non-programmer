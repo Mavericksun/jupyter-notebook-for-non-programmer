{
 "cells": [
  {
   "cell_type": "markdown",
   "metadata": {},
   "source": [
    "# About me\n",
    "I am a Data science engineer living in Shanghai and a life learner. Contact me by [Email](mailto:fredness7@hotmail.com)\n",
    "\n",
    "# About the site\n",
    "Articles in this site is generated from Jupyter's .ipynb by pelican and then published on gitpages. If you are interested in blogging in Jupyter. Welcome to fork my [project](https://github.com/junjiecai/pelican_setup_for_jupytersm) and it help you build your blogs with Jupyter."
   ]
  }
 ],
 "metadata": {
  "kernelspec": {
   "display_name": "Python 3",
   "language": "python",
   "name": "python3"
  },
  "language_info": {
   "codemirror_mode": {
    "name": "ipython",
    "version": 3
   },
   "file_extension": ".py",
   "mimetype": "text/x-python",
   "name": "python",
   "nbconvert_exporter": "python",
   "pygments_lexer": "ipython3",
   "version": "3.5.2"
  }
 },
 "nbformat": 4,
 "nbformat_minor": 2
}
