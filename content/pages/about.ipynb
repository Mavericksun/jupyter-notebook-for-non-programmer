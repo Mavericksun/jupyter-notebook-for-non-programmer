{
 "cells": [
  {
   "cell_type": "markdown",
   "metadata": {},
   "source": [
    "# 站主人Exolution是一位...\n",
    "* JOJO脑残粉\n",
    "* 渣厨艺的吃货\n",
    "* 自律的拖延症患者\n",
    "* 数学不太好的数据工程师\n",
    "* 不太智能的人工智能爱好者\n",
    "* 三天打鱼两天晒网的终身学习者\n",
    "* 体重在65kg~80kg间不断游走的健身者\n",
    "\n",
    "![](banner_2.jpg)\n",
    "\n",
    "# 本站用到技术\n",
    "本站分类为jupyter labs的文章都能在[这里](https://github.com/junjiecai/jupyter_labs/tree/master/exolution)找到对应的jupyter notebooks原文件，欢迎下载后用jupyter notebook打开，调试把玩其中的代码。\n",
    "\n",
    "本站的技术文章都是由pelcian直接将jupyter notebook处理成blog html后发布在gitpages上。如果读者感兴趣，可以下载我的[这个项目](https://github.com/junjiecai/pelican_setup_for_jupyters)自己建立基于jupyter notebooks的技术博客。\n",
    "\n",
    "# Email:\n",
    "fredness7@hotmail.com\n"
   ]
  }
 ],
 "metadata": {
  "kernelspec": {
   "display_name": "Python 3",
   "language": "python",
   "name": "python3"
  },
  "language_info": {
   "codemirror_mode": {
    "name": "ipython",
    "version": 3
   },
   "file_extension": ".py",
   "mimetype": "text/x-python",
   "name": "python",
   "nbconvert_exporter": "python",
   "pygments_lexer": "ipython3",
   "version": "3.5.2"
  }
 },
 "nbformat": 4,
 "nbformat_minor": 0
}
