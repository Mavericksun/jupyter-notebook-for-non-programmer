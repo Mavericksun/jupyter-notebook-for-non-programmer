{
 "cells": [
  {
   "cell_type": "markdown",
   "metadata": {},
   "source": [
    "# 关于我\n",
    "我是一位生活在上海的数据科学工程师， 终生学习者。可以通过[邮件](mailto:fredness7@hotmail.com)联系我。\n",
    "\n",
    "\n",
    "# 本站用到技术\n",
    "本站的技术文章都是由pelcian直接将jupyter notebook处理成blog html后发布在gitpages上。如果你也对用Jupyter写Blog感兴趣，欢迎fork我的[项目](https://github.com/junjiecai/pelican_setup_for_jupyters)，它能帮你用Jupyter建立自己的Blog。"
   ]
  }
 ],
 "metadata": {
  "kernelspec": {
   "display_name": "Python 3",
   "language": "python",
   "name": "python3"
  },
  "language_info": {
   "codemirror_mode": {
    "name": "ipython",
    "version": 3
   },
   "file_extension": ".py",
   "mimetype": "text/x-python",
   "name": "python",
   "nbconvert_exporter": "python",
   "pygments_lexer": "ipython3",
   "version": "3.5.2"
  }
 },
 "nbformat": 4,
 "nbformat_minor": 0
}
